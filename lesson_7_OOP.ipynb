{
 "cells": [
  {
   "cell_type": "markdown",
   "id": "612b73b6-f57a-48a6-a526-5fe6ebfa19d1",
   "metadata": {},
   "source": [
    "#1. Простые классы\n",
    "Напишите класс Triangle, который будет иметь 3 поля: a, b, c (стороны треугольника) и n_dots = 3 (количество точек). Поле n_dots объявите на уровне класса, не в конструкторе — чтобы оно было доступно без создания объекта (т.е. работал вызов Triangle.n_dots). Добавьте в класс простой конструктор, принимающий на вход все три стороны и сохраняющий эти стороны в соответсвующие поля класса.\n",
    "Создайте объекты этого класса со следующими названиями: tr_1, tr_2 и любыми значениями длин сторон."
   ]
  },
  {
   "cell_type": "code",
   "execution_count": 1,
   "id": "7929ab46-a557-4dc9-9e85-a8c0ef1eff13",
   "metadata": {},
   "outputs": [],
   "source": [
    "class Triangle:\n",
    "    n_dots = 3\n",
    "    def __init__(self, a, b, c):\n",
    "        self.a, self.b, self.c = a, b, c"
   ]
  },
  {
   "cell_type": "code",
   "execution_count": 2,
   "id": "177a7073-c054-401b-aa15-66aa28fe7198",
   "metadata": {},
   "outputs": [],
   "source": [
    "tr_1 = Triangle(1, 2, 4)\n",
    "tr_2 = Triangle(5, 2, 4)"
   ]
  },
  {
   "cell_type": "markdown",
   "id": "93255de9-7648-4074-98f8-474e6e804eb6",
   "metadata": {},
   "source": [
    "#2. Усложняем треугольник\n",
    "Возьмите класс Triangle из предыдущего задания и добавьте метод area(), возвращающий площадь треугольника. Напомним, что при известных трех сторонах площадь треугольника можно подсчитать по формуле Герона: S= (p(p−a)(p−b)(p−c))**(1/2), где p= 1/2(a+b+c) — полупериметр. Подумайте, как можно организовать код так, чтобы p считалась один раз.\n",
    "\n",
    "Затем поменяйте конструктор: он должен проверять, что выполнено неравенство треугольника - каждая сторона меньше  суммы двух других. Если это условие не выполнено, выбрасывайте ValueError с текстом \"triangle inequality does not hold\" (передайте эту строку в конструктор ValueError).\n",
    "\n",
    "Наконец, создайте два объекта данного класса с названиями tr_1 и tr_2 , в которых соблюдается неравенство треугольника. Также, сохраните в переменные square_1 и square_2 результаты вызовов методов .area() для объектов tr_1 и tr_2 соответственно."
   ]
  },
  {
   "cell_type": "code",
   "execution_count": 18,
   "id": "ea2078ce-5464-460b-ad1a-2e4090c68e36",
   "metadata": {},
   "outputs": [
    {
     "name": "stdout",
     "output_type": "stream",
     "text": [
      "6.49519052838329 6.0\n"
     ]
    }
   ],
   "source": [
    "class Triangle:\n",
    "    n_dots = 3\n",
    "    def __init__(self, a, b, c):\n",
    "        if a + b > c and a + c > b and b + c > a:\n",
    "            self.a, self.b, self.c = a, b, c\n",
    "        else: \n",
    "            raise ValueError(\"triangle inequality does not hold\")\n",
    "    \n",
    "    def area(self):\n",
    "        p = 0.5 * (self.a + self.b + self.c)\n",
    "        s = (p * (p - self.a) * (p - self.b) * (p - self.c))**0.5\n",
    "        return s\n",
    "tr_1 = Triangle(5, 3, 7)\n",
    "tr_2 = Triangle(3, 4, 5)\n",
    "square_1 = tr_1.area()\n",
    "square_2 = tr_2.area()\n",
    "print(square_1, square_2)"
   ]
  },
  {
   "cell_type": "markdown",
   "id": "c9bfee8d-68bb-41bd-873b-b646fd334c67",
   "metadata": {},
   "source": [
    "#3. Простое наследование\n",
    "Создайте класс Rectangle (прямоугольник), который будет наследоваться от класса Triangle. Сделайте так, чтобы area(), конструктор и поле n_dots были верными. А именно:\n",
    "\n",
    "Конструктор должен принимать 2 стороны: a, b\n",
    "area() должен считать площадь как произведение смежных сторон: S=ab\n",
    "Неравенство треугольника не нужно проверять.\n",
    "n_dots должен быть объявлен на уровне класса и равняться 4.\n",
    "Отправьте реализацию класса Rectangle в LMS. Класс Triangle отправлять не нужно."
   ]
  },
  {
   "cell_type": "code",
   "execution_count": 19,
   "id": "a6269d7a-7bd7-44c9-9754-f0309ff2659f",
   "metadata": {},
   "outputs": [],
   "source": [
    "class Rectangle(Triangle):\n",
    "    n_dots = 4\n",
    "    def __init__(self, a, b):\n",
    "        self.a, self.b = a, b\n",
    "\n",
    "    def area(self):\n",
    "        s = self.a * self.b\n",
    "        return s  "
   ]
  },
  {
   "cell_type": "markdown",
   "id": "69799b5c-5044-4e79-9b9d-616519f4367d",
   "metadata": {},
   "source": [
    "#4. Напишите класс BaseFigure, который имеет поле класса (т.е. на уровне класса) n_dots = None, метод area() \"без реализации\", метод validate() \"без реализации\". Сделайте так, чтобы методы \"без реализации\" выбрасывали исключение NotImplementedError при их вызове и ничего другого не делали. Создайте также конструктор класса, который не принимает дополнительных аргументов и в реализации только лишь вызывает self.validate()."
   ]
  },
  {
   "cell_type": "code",
   "execution_count": 1,
   "id": "5efd7efa-c1ff-49fb-a9c8-52b50d86b60c",
   "metadata": {},
   "outputs": [],
   "source": [
    "class BaseFigure:\n",
    "    n_dots = None\n",
    "       \n",
    "    def area(self):\n",
    "        raise NotImplemented()\n",
    "        \n",
    "    def validate(self):\n",
    "        raise NotImplemented()\n",
    "        \n",
    "    def __init__(self):\n",
    "        self.validate()"
   ]
  },
  {
   "cell_type": "markdown",
   "id": "b8053eac-1649-4b96-afa8-19a4bf91e594",
   "metadata": {},
   "source": [
    "#5. Перепишите классы Triangle, Rectangle так, чтобы они наследовались от BaseFigure. Затем уберите реализацию всех методов и конструкторов в классах-потомках.\n",
    "    Есть ли у Triangle, Rectangle методы area, validate? Если есть, то что они возвращают при вызове?"
   ]
  },
  {
   "cell_type": "code",
   "execution_count": 14,
   "id": "96e7de0b-b542-4f72-8b17-4982f8d6d77d",
   "metadata": {},
   "outputs": [],
   "source": [
    "class Triangle(BaseFigure):\n",
    "    pass\n",
    "class Rectangle(BaseFigure):\n",
    "    pass"
   ]
  },
  {
   "cell_type": "markdown",
   "id": "b97d75a8-4ab2-45bf-bd07-ad81e368f3ce",
   "metadata": {},
   "source": [
    "#6. Возьмите классы Triangle и Rectangle из прошлого задания.\n",
    "\n",
    "Переопределите метод area в каждом случае.\n",
    "Переопределите конструктор в каждом случае (число аргументов тоже меняется). Не забудьте в конструкторе дочернего класса вызвать конструктор родительского класса!\n",
    "Переопределите метод validate в каждом случае. Метод validate должен принимать только аргумент self и использовать созданные в конструкторе переменные. Для этого вы можете сначала сохранять в конструкторе входные данные в self.переменная, а затем вызывать конструктор суперкласса. Для Triangle данный метод должен проверять неравенство треугольника и выбрасывать ошибку ValueError(\"triangle inequality does not hold\") либо возвращать значения сторон. Для Rectangle данный метод должен возвращать значения сторон.\n",
    "В итоге вы получите два класса, которые построены по схожему шаблону. Этот общий шаблон был задан в классе BaseFigure. Создайте несколько объектов этих классов и попробуйте вызвать у них .area(), .validate(). Если вы пользуетесь IDE, то увидите интерактивные подсказки: она скажет, что такие методы есть и что эти методы перегружают (overload) методы из родительского класса. При этом вызов методов будет работать коррректно."
   ]
  },
  {
   "cell_type": "code",
   "execution_count": 2,
   "id": "ecbb8392-e3bd-4845-a0aa-c07272f3d414",
   "metadata": {},
   "outputs": [],
   "source": [
    "class Triangle(BaseFigure):\n",
    "    n_dots = 3\n",
    "    def __init__(self, a, b, c):\n",
    "        if a + b > c and a + c > b and b + c > a:\n",
    "            self.a, self.b, self.c = a, b, c\n",
    "        else: \n",
    "            raise ValueError(\"triangle inequality does not hold\")\n",
    "        super().__init__()    \n",
    "    def area(self):\n",
    "        p = 0.5 * (self.a + self.b + self.c)\n",
    "        s = (p * (p - self.a) * (p - self.b) * (p - self.c))**0.5\n",
    "        return s \n",
    "    def validate(self):\n",
    "        return self.a, self.b, self.c \n",
    "    \n",
    "class Rectangle(BaseFigure):\n",
    "    n_dots = 4\n",
    "    def __init__(self, a, b):\n",
    "        self.a, self.b = a, b\n",
    "        super().__init__()\n",
    "    def area(self):\n",
    "        s = self.a * self.b\n",
    "        return s \n",
    "    def validate(self):\n",
    "        return self.a, self.b"
   ]
  },
  {
   "cell_type": "markdown",
   "id": "c26c3e5d-d6b1-4ebe-877e-5e456028b5f8",
   "metadata": {},
   "source": [
    "#7. Попробуем собрать совершенно новый класс, используя BaseFigure в качестве шаблона.\n",
    "    Напишите класс Circle, в котором в качестве n_dots будет float('inf'), area будет считаться как 3.14 * r^2, а конструктор будет принимать только один аргумент - r. Метод validate не должен принимать никаких аргументов и не должен осуществлять никаких проверок.\n",
    "    Отправьте в LMS реализацию этого класса. Отправлять реализацию BaseFigure не нужно."
   ]
  },
  {
   "cell_type": "code",
   "execution_count": 3,
   "id": "165b924a-69eb-4c32-a83c-293a332b858d",
   "metadata": {},
   "outputs": [],
   "source": [
    "class Circle(BaseFigure):\n",
    "    n_dots = float('inf')\n",
    "    def __init__(self, r):\n",
    "        self.r = r\n",
    "        super().__init__()\n",
    "    def area(self):\n",
    "        s = 3.14 * self.r**2\n",
    "        return s\n",
    "    def validate(self):\n",
    "        pass"
   ]
  },
  {
   "cell_type": "markdown",
   "id": "c3624bc6-022b-4f40-a195-be49e8c885ea",
   "metadata": {},
   "source": [
    "#8. Напишите класс Vector, который на вход будет принимать список координат (x1,…,xn). Положите все координаты вектора в список self.coords.\n",
    "    Добейтесь того, чтобы объекты класса Vector можно было складывать через оператор + и получать на выходе тоже объект этого же класса"
   ]
  },
  {
   "cell_type": "code",
   "execution_count": 4,
   "id": "932a1d59-3807-4e6c-a8e7-489fab68351b",
   "metadata": {},
   "outputs": [],
   "source": [
    "class Vector:\n",
    "    def __init__(self, coords):\n",
    "        self.coords = coords\n",
    "        \n",
    "    def __add__(self, other):\n",
    "        if len(self.coords) == len(other.coords):\n",
    "            add_vec = [x + y for x, y in zip(self.coords, other.coords)]\n",
    "            return Vector(add_vec)\n",
    "        else:\n",
    "            raise ValueError(f'left and right lengths differ: {len(self.coords)} != {len(other.coords)}')\n",
    "    # Чтобы корректно отображался результат сложения\n",
    "    # def __str__(self):           \n",
    "    #    return f'Vector({self.coords})'\n",
    "    \n",
    "#v_1 = Vector([1, 2])\n",
    "#v_2 = Vector([1, 2])    \n",
    "#print(v_1+v_2)   "
   ]
  },
  {
   "cell_type": "markdown",
   "id": "4d73a1ec-e300-4856-b07d-2cfadb53e765",
   "metadata": {},
   "source": [
    "#9. Добавим могущества нашему вектору.\n",
    "    Добавьте методу красивый вывод при передаче его в print(...). Пример:"
   ]
  },
  {
   "cell_type": "code",
   "execution_count": 7,
   "id": "f7e6620c-489f-4ee4-a4b9-c04c12f13dc3",
   "metadata": {},
   "outputs": [],
   "source": [
    "class Vector:\n",
    "    def __init__(self, coords):\n",
    "        self.coords = coords\n",
    "        \n",
    "    def __add__(self, other):\n",
    "        if len(self.coords) == len(other.coords):\n",
    "            add_vec = [x + y for x, y in zip(self.coords, other.coords)]\n",
    "            return Vector(add_vec)\n",
    "        else:\n",
    "            raise ValueError(f'left and right lengths differ: {len(self.coords)} != {len(other.coords)}')\n",
    "    # Чтобы корректно отображался результат сложения\n",
    "    def __str__(self):           \n",
    "        return f'{self.coords}'\n",
    "    \n",
    "#print(Vector([1, 2, 3]))\n",
    "# Напечатает: \"[1, 2, 3]\" без кавычек\n",
    "#vec = Vector([1])\n",
    "#print(vec)\n",
    "# Напечатает \"[1]\" без кавычек"
   ]
  },
  {
   "cell_type": "markdown",
   "id": "4d3c88e7-52fd-4bc1-8c09-174e73c9679f",
   "metadata": {},
   "source": [
    "#10. Продолжаем улучшать вектор. \n",
    "     Добавьте в класс возможность умножать вектор на вектор и вектор на число. Не забудьте сохранять координаты вектора в self.coords."
   ]
  },
  {
   "cell_type": "code",
   "execution_count": 1,
   "id": "1dc91b73-451e-4df6-b55f-b9f660b831a6",
   "metadata": {},
   "outputs": [],
   "source": [
    "class Vector:\n",
    "    def __init__(self, coords):\n",
    "        self.coords = coords\n",
    "        \n",
    "    def __add__(self, other):\n",
    "        if len(self.coords) == len(other.coords):\n",
    "            add_vec = [x + y for x, y in zip(self.coords, other.coords)]\n",
    "            return Vector(add_vec)\n",
    "        else:\n",
    "            raise ValueError(f'left and right lengths differ: {len(self.coords)} != {len(other.coords)}')\n",
    "            \n",
    "    def __str__(self):           \n",
    "        return f'{self.coords}'\n",
    "    \n",
    "    def __mul__(self, other):\n",
    "        if isinstance(other, Vector) and len(self.coords) == len(other.coords):\n",
    "            return sum(n1*n2 for n1, n2 in zip(self.coords, other.coords))\n",
    "        elif isinstance(other, (int, float)):\n",
    "            return Vector([n3 * other for n3 in self.coords])\n",
    "        else:\n",
    "            raise ValueError(f'left and right lengths differ: {len(self.coords)} != {len(other.coords)}')\n",
    "            \n",
    "#v1 = Vector([1, 2])\n",
    "#v2 = 2\n",
    "#print(v1 * v2)"
   ]
  },
  {
   "cell_type": "markdown",
   "id": "9b89824e-1800-4dff-b70c-126905ceddc2",
   "metadata": {},
   "source": [
    "#11. Добавьте в класс возможности сравнивать два вектора между собой и считать abs (это длина вектора, в Евклидовой метрике)."
   ]
  },
  {
   "cell_type": "code",
   "execution_count": 17,
   "id": "5dca302b-24bb-47c6-b8c3-13cdaac07d84",
   "metadata": {},
   "outputs": [],
   "source": [
    "class Vector:\n",
    "    def __init__(self, coords):\n",
    "        self.coords = coords\n",
    "        \n",
    "    def __add__(self, other):\n",
    "        if len(self.coords) == len(other.coords):\n",
    "            add_vec = [x + y for x, y in zip(self.coords, other.coords)]\n",
    "            return Vector(add_vec)\n",
    "        else:\n",
    "            raise ValueError(f'left and right lengths differ: {len(self.coords)} != {len(other.coords)}')\n",
    "            \n",
    "    def __str__(self):           \n",
    "        return f'{self.coords}'\n",
    "    \n",
    "    def __mul__(self, other):\n",
    "        if isinstance(other, Vector) and len(self.coords) == len(other.coords):\n",
    "            return sum(n1*n2 for n1, n2 in zip(self.coords, other.coords))\n",
    "        elif isinstance(other, (int, float)):\n",
    "            return Vector([n3 * other for n3 in self.coords])\n",
    "        else:\n",
    "            raise ValueError(f'left and right lengths differ: {len(self.coords)} != {len(other.coords)}')\n",
    "            \n",
    "    def __eq__(self, other):\n",
    "        return self.coords == other.coords\n",
    "    \n",
    "    def __abs__(self):\n",
    "        return (self.coords[0]**2 + self.coords[1]**2)**0.5\n",
    "    \n",
    "#print(abs(Vector([-12, 5])))\n",
    "#print(Vector([1, 3, 5]) == Vector([1]))\n",
    "#print(Vector([1, 3, 5]) == Vector([-1, 3, 5]))\n",
    "#print(Vector([1, 3, 5]) == Vector([1, 3, 5]))"
   ]
  },
  {
   "cell_type": "markdown",
   "id": "1b8638c2-88ee-4f68-83c9-f1d3ac982221",
   "metadata": {},
   "source": [
    "#12. Разным классам в приложении потребуется разная функциональность: кому-то потребуется проверять, есть ли в headers ключ \"Accept\", кому-то потребуется читать body, а кому-то понадобится проверять пустоту cookies. Будут и классы, которым потребуется несколько возможностей сразу.\n",
    "    Напишите классы ParsesCookies, ParsesBody, ParsesHeaders"
   ]
  },
  {
   "cell_type": "code",
   "execution_count": 1,
   "id": "79599e52-5e8c-43c3-a1b7-a18d47466ee9",
   "metadata": {},
   "outputs": [],
   "source": [
    "class ParsesCookies:\n",
    "    def cookies(self):\n",
    "        return self.request['cookies']\n",
    "    def is_authed(self):\n",
    "        return 'auth_key' in self.request['cookies']\n",
    "\n",
    "class ParsesBody:\n",
    "    def body(self):\n",
    "        return self.request['body']\n",
    "\n",
    "class ParsesHeaders:\n",
    "    def headers(self):\n",
    "        return self.request['headers']\n",
    "    def need_json(self):\n",
    "        if  'content-type' in self.request['headers']:\n",
    "            return True\n",
    "        else:\n",
    "            return False  "
   ]
  },
  {
   "cell_type": "markdown",
   "id": "d6c19757-f91c-4171-9e91-8ef2a7ea3f76",
   "metadata": {},
   "source": [
    "#13. Используя миксины из прошлого пункта, напишите класс JsonHandler, который будет наследоваться от классов ParsesBody и ParsesHeaders , иметь метод process() и конструктор, принимающий аргумент request и сохраняющий в self.request. В этом задании нужно использовать библиотеку json."
   ]
  },
  {
   "cell_type": "code",
   "execution_count": 2,
   "id": "a665f21a-17ef-4d89-a1c9-093b0eb34a81",
   "metadata": {},
   "outputs": [],
   "source": [
    "import json\n",
    "class JsonHandler(ParsesBody, ParsesHeaders):\n",
    "   \n",
    "    def __init__(self, request):\n",
    "        self.request = request\n",
    "        \n",
    "    def process(self):        \n",
    "        try:\n",
    "            if self.need_json():\n",
    "                return len(json.loads(self.body()).keys())    \n",
    "        except:\n",
    "            None\n",
    "         \n",
    "# Пример использования\n",
    "#r = JsonHandler({'body': '{\"a\": 123, \"b\": 1234}',\n",
    "#     'headers': {'content-type': 'application/json'}\n",
    "#    })\n",
    "#print(r.process())\n"
   ]
  },
  {
   "cell_type": "markdown",
   "id": "5d6f51ff-1378-4573-86a0-ebdf9db533b4",
   "metadata": {},
   "source": [
    "#14. Используя миксины из прошлого пункта, напишите класс SecureTextHandler, который будет наследоваться от классов ParsesBody и ParsesCookies , иметь метод process() и конструктор, принимающий один аргумент и сохраняющий его в нужное поле класса."
   ]
  },
  {
   "cell_type": "code",
   "execution_count": 3,
   "id": "7e27d977-be15-46bf-9478-b5836ab15db0",
   "metadata": {},
   "outputs": [],
   "source": [
    "class SecureTextHandler(ParsesBody, ParsesCookies):\n",
    "    def __init__(self, request):\n",
    "        self.request = request\n",
    "    \n",
    "    def process(self):\n",
    "        try: \n",
    "            if self.is_authed():\n",
    "                return len(self.body())\n",
    "        except: \n",
    "            None"
   ]
  },
  {
   "cell_type": "code",
   "execution_count": 7,
   "id": "091a9af0-5951-4eca-b969-b2e8ac12957a",
   "metadata": {},
   "outputs": [
    {
     "name": "stdout",
     "output_type": "stream",
     "text": [
      "5\n",
      "None\n"
     ]
    }
   ],
   "source": [
    "# Примеры\n",
    "r = {'cookies': {'auth_key': '123'},\n",
    "     'body': 'hello'\n",
    "    }\n",
    "print(SecureTextHandler(r).process())\n",
    "# 5\n",
    "\n",
    "r = {'cookies': {},\n",
    "     'body': 'hello'\n",
    "    }\n",
    "print(SecureTextHandler(r).process())\n",
    "# None"
   ]
  },
  {
   "cell_type": "code",
   "execution_count": null,
   "id": "1fd3f3da-61fa-4367-b790-990a2cc8793a",
   "metadata": {},
   "outputs": [],
   "source": []
  }
 ],
 "metadata": {
  "kernelspec": {
   "display_name": "Python 3 (ipykernel)",
   "language": "python",
   "name": "python3"
  },
  "language_info": {
   "codemirror_mode": {
    "name": "ipython",
    "version": 3
   },
   "file_extension": ".py",
   "mimetype": "text/x-python",
   "name": "python",
   "nbconvert_exporter": "python",
   "pygments_lexer": "ipython3",
   "version": "3.8.10"
  }
 },
 "nbformat": 4,
 "nbformat_minor": 5
}
